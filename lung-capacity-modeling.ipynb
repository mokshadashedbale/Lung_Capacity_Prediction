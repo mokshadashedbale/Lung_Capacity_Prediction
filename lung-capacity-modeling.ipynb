{
 "cells": [
  {
   "cell_type": "code",
   "execution_count": 53,
   "id": "24d4edb4",
   "metadata": {},
   "outputs": [],
   "source": [
    "import pandas as pd\n",
    "import numpy as np"
   ]
  },
  {
   "cell_type": "code",
   "execution_count": 54,
   "id": "1d32ccbc",
   "metadata": {},
   "outputs": [
    {
     "data": {
      "text/html": [
       "<div>\n",
       "<style scoped>\n",
       "    .dataframe tbody tr th:only-of-type {\n",
       "        vertical-align: middle;\n",
       "    }\n",
       "\n",
       "    .dataframe tbody tr th {\n",
       "        vertical-align: top;\n",
       "    }\n",
       "\n",
       "    .dataframe thead th {\n",
       "        text-align: right;\n",
       "    }\n",
       "</style>\n",
       "<table border=\"1\" class=\"dataframe\">\n",
       "  <thead>\n",
       "    <tr style=\"text-align: right;\">\n",
       "      <th></th>\n",
       "      <th>LungCap</th>\n",
       "      <th>Age</th>\n",
       "      <th>Height</th>\n",
       "      <th>Smoke</th>\n",
       "      <th>Gender</th>\n",
       "      <th>Caesarean</th>\n",
       "    </tr>\n",
       "  </thead>\n",
       "  <tbody>\n",
       "    <tr>\n",
       "      <th>0</th>\n",
       "      <td>6.475</td>\n",
       "      <td>6</td>\n",
       "      <td>62.1</td>\n",
       "      <td>no</td>\n",
       "      <td>male</td>\n",
       "      <td>no</td>\n",
       "    </tr>\n",
       "    <tr>\n",
       "      <th>1</th>\n",
       "      <td>10.125</td>\n",
       "      <td>18</td>\n",
       "      <td>74.7</td>\n",
       "      <td>yes</td>\n",
       "      <td>female</td>\n",
       "      <td>no</td>\n",
       "    </tr>\n",
       "    <tr>\n",
       "      <th>2</th>\n",
       "      <td>9.550</td>\n",
       "      <td>16</td>\n",
       "      <td>69.7</td>\n",
       "      <td>no</td>\n",
       "      <td>female</td>\n",
       "      <td>yes</td>\n",
       "    </tr>\n",
       "    <tr>\n",
       "      <th>3</th>\n",
       "      <td>11.125</td>\n",
       "      <td>14</td>\n",
       "      <td>71.0</td>\n",
       "      <td>no</td>\n",
       "      <td>male</td>\n",
       "      <td>no</td>\n",
       "    </tr>\n",
       "    <tr>\n",
       "      <th>4</th>\n",
       "      <td>4.800</td>\n",
       "      <td>5</td>\n",
       "      <td>56.9</td>\n",
       "      <td>no</td>\n",
       "      <td>male</td>\n",
       "      <td>no</td>\n",
       "    </tr>\n",
       "  </tbody>\n",
       "</table>\n",
       "</div>"
      ],
      "text/plain": [
       "   LungCap  Age  Height Smoke  Gender Caesarean\n",
       "0    6.475    6    62.1    no    male        no\n",
       "1   10.125   18    74.7   yes  female        no\n",
       "2    9.550   16    69.7    no  female       yes\n",
       "3   11.125   14    71.0    no    male        no\n",
       "4    4.800    5    56.9    no    male        no"
      ]
     },
     "execution_count": 54,
     "metadata": {},
     "output_type": "execute_result"
    }
   ],
   "source": [
    "df=pd.read_csv(r\"C:\\Users\\akash\\Downloads\\LungCapData.csv\")       #Loading Dataset\n",
    "df.head(5)"
   ]
  },
  {
   "cell_type": "code",
   "execution_count": 55,
   "id": "8d6c804f",
   "metadata": {},
   "outputs": [
    {
     "data": {
      "text/plain": [
       "(725, 6)"
      ]
     },
     "execution_count": 55,
     "metadata": {},
     "output_type": "execute_result"
    }
   ],
   "source": [
    "df.shape"
   ]
  },
  {
   "cell_type": "code",
   "execution_count": 56,
   "id": "f6138575",
   "metadata": {},
   "outputs": [],
   "source": [
    "#Data Cleaning"
   ]
  },
  {
   "cell_type": "code",
   "execution_count": 57,
   "id": "81057bc8",
   "metadata": {},
   "outputs": [
    {
     "data": {
      "text/plain": [
       "LungCap      0\n",
       "Age          0\n",
       "Height       0\n",
       "Smoke        0\n",
       "Gender       0\n",
       "Caesarean    0\n",
       "dtype: int64"
      ]
     },
     "execution_count": 57,
     "metadata": {},
     "output_type": "execute_result"
    }
   ],
   "source": [
    "df.isnull().sum()"
   ]
  },
  {
   "cell_type": "code",
   "execution_count": 58,
   "id": "cd164262",
   "metadata": {},
   "outputs": [
    {
     "name": "stdout",
     "output_type": "stream",
     "text": [
      "<class 'pandas.core.frame.DataFrame'>\n",
      "RangeIndex: 725 entries, 0 to 724\n",
      "Data columns (total 6 columns):\n",
      " #   Column     Non-Null Count  Dtype  \n",
      "---  ------     --------------  -----  \n",
      " 0   LungCap    725 non-null    float64\n",
      " 1   Age        725 non-null    int64  \n",
      " 2   Height     725 non-null    float64\n",
      " 3   Smoke      725 non-null    object \n",
      " 4   Gender     725 non-null    object \n",
      " 5   Caesarean  725 non-null    object \n",
      "dtypes: float64(2), int64(1), object(3)\n",
      "memory usage: 34.1+ KB\n"
     ]
    }
   ],
   "source": [
    "df.info()"
   ]
  },
  {
   "cell_type": "code",
   "execution_count": 59,
   "id": "0318513f",
   "metadata": {},
   "outputs": [
    {
     "data": {
      "text/plain": [
       "no     648\n",
       "yes     77\n",
       "Name: Smoke, dtype: int64"
      ]
     },
     "execution_count": 59,
     "metadata": {},
     "output_type": "execute_result"
    }
   ],
   "source": [
    "df.Smoke.value_counts()"
   ]
  },
  {
   "cell_type": "code",
   "execution_count": 60,
   "id": "4d217d6d",
   "metadata": {},
   "outputs": [],
   "source": [
    "df.Smoke=df.Smoke.replace({'no':0,'yes':1})    \n",
    "\n",
    "#here we convert categorical variable into numberical format because machine learning models only understand numerical data."
   ]
  },
  {
   "cell_type": "code",
   "execution_count": 61,
   "id": "fa458db6",
   "metadata": {},
   "outputs": [
    {
     "data": {
      "text/plain": [
       "0    648\n",
       "1     77\n",
       "Name: Smoke, dtype: int64"
      ]
     },
     "execution_count": 61,
     "metadata": {},
     "output_type": "execute_result"
    }
   ],
   "source": [
    "df.Smoke.value_counts()"
   ]
  },
  {
   "cell_type": "code",
   "execution_count": 62,
   "id": "6903359d",
   "metadata": {},
   "outputs": [
    {
     "data": {
      "text/plain": [
       "male      367\n",
       "female    358\n",
       "Name: Gender, dtype: int64"
      ]
     },
     "execution_count": 62,
     "metadata": {},
     "output_type": "execute_result"
    }
   ],
   "source": [
    "df.Gender.value_counts()"
   ]
  },
  {
   "cell_type": "code",
   "execution_count": 63,
   "id": "4fe820e4",
   "metadata": {},
   "outputs": [],
   "source": [
    "df.Gender=df.Gender.replace({'male':0,'female':1})"
   ]
  },
  {
   "cell_type": "code",
   "execution_count": 64,
   "id": "bce0f418",
   "metadata": {},
   "outputs": [
    {
     "data": {
      "text/plain": [
       "0    367\n",
       "1    358\n",
       "Name: Gender, dtype: int64"
      ]
     },
     "execution_count": 64,
     "metadata": {},
     "output_type": "execute_result"
    }
   ],
   "source": [
    "df.Gender.value_counts()"
   ]
  },
  {
   "cell_type": "code",
   "execution_count": 65,
   "id": "6f27a0ed",
   "metadata": {},
   "outputs": [
    {
     "data": {
      "text/plain": [
       "no     561\n",
       "yes    164\n",
       "Name: Caesarean, dtype: int64"
      ]
     },
     "execution_count": 65,
     "metadata": {},
     "output_type": "execute_result"
    }
   ],
   "source": [
    "df.Caesarean.value_counts()"
   ]
  },
  {
   "cell_type": "code",
   "execution_count": 66,
   "id": "7d7a0332",
   "metadata": {},
   "outputs": [],
   "source": [
    "df.Caesarean=df.Caesarean.replace({'no':0,'yes':1})"
   ]
  },
  {
   "cell_type": "code",
   "execution_count": 67,
   "id": "60b2a274",
   "metadata": {},
   "outputs": [
    {
     "data": {
      "text/plain": [
       "0    561\n",
       "1    164\n",
       "Name: Caesarean, dtype: int64"
      ]
     },
     "execution_count": 67,
     "metadata": {},
     "output_type": "execute_result"
    }
   ],
   "source": [
    "df.Caesarean.value_counts()"
   ]
  },
  {
   "cell_type": "code",
   "execution_count": 68,
   "id": "e742fbeb",
   "metadata": {},
   "outputs": [
    {
     "name": "stdout",
     "output_type": "stream",
     "text": [
      "<class 'pandas.core.frame.DataFrame'>\n",
      "RangeIndex: 725 entries, 0 to 724\n",
      "Data columns (total 6 columns):\n",
      " #   Column     Non-Null Count  Dtype  \n",
      "---  ------     --------------  -----  \n",
      " 0   LungCap    725 non-null    float64\n",
      " 1   Age        725 non-null    int64  \n",
      " 2   Height     725 non-null    float64\n",
      " 3   Smoke      725 non-null    int64  \n",
      " 4   Gender     725 non-null    int64  \n",
      " 5   Caesarean  725 non-null    int64  \n",
      "dtypes: float64(2), int64(4)\n",
      "memory usage: 34.1 KB\n"
     ]
    }
   ],
   "source": [
    "df.info()"
   ]
  },
  {
   "cell_type": "code",
   "execution_count": 69,
   "id": "07398104",
   "metadata": {},
   "outputs": [],
   "source": [
    "#Sampling"
   ]
  },
  {
   "cell_type": "code",
   "execution_count": 70,
   "id": "6e64c68f",
   "metadata": {},
   "outputs": [],
   "source": [
    "from sklearn.model_selection import train_test_split"
   ]
  },
  {
   "cell_type": "code",
   "execution_count": 71,
   "id": "44033884",
   "metadata": {},
   "outputs": [],
   "source": [
    "df_train,df_test=train_test_split(df,test_size=.2)\n"
   ]
  },
  {
   "cell_type": "code",
   "execution_count": 72,
   "id": "e5b9d25c",
   "metadata": {},
   "outputs": [],
   "source": [
    "df_train_y = df_train.iloc[:,0]\n",
    "df_test_y = df_test.iloc[:,0]"
   ]
  },
  {
   "cell_type": "code",
   "execution_count": 73,
   "id": "2c9c6b4f",
   "metadata": {},
   "outputs": [],
   "source": [
    "df_train_x = df_train.iloc[:,1::]\n",
    "df_test_x = df_test.iloc[:,1::]\n"
   ]
  },
  {
   "cell_type": "code",
   "execution_count": 74,
   "id": "3afd36e7",
   "metadata": {},
   "outputs": [],
   "source": [
    "#Building the model\n",
    "\n",
    "#Import the neccessary function from Skelearn\n",
    "#create an object of that function\n",
    "#run the fit function and model is created.\n",
    "#run the predict functn(prediction will done after this)"
   ]
  },
  {
   "cell_type": "code",
   "execution_count": 75,
   "id": "84400dcb",
   "metadata": {},
   "outputs": [],
   "source": [
    "from sklearn.linear_model import LinearRegression"
   ]
  },
  {
   "cell_type": "code",
   "execution_count": 76,
   "id": "6d186de5",
   "metadata": {},
   "outputs": [],
   "source": [
    "linereg =LinearRegression()"
   ]
  },
  {
   "cell_type": "code",
   "execution_count": 77,
   "id": "1199a780",
   "metadata": {},
   "outputs": [
    {
     "data": {
      "text/plain": [
       "LinearRegression()"
      ]
     },
     "execution_count": 77,
     "metadata": {},
     "output_type": "execute_result"
    }
   ],
   "source": [
    "linereg.fit(df_train_x,df_train_y)"
   ]
  },
  {
   "cell_type": "code",
   "execution_count": 78,
   "id": "80ef4072",
   "metadata": {},
   "outputs": [],
   "source": [
    "# Rsquare"
   ]
  },
  {
   "cell_type": "code",
   "execution_count": 79,
   "id": "063ce77f",
   "metadata": {},
   "outputs": [
    {
     "data": {
      "text/plain": [
       "85.50163417774496"
      ]
     },
     "execution_count": 79,
     "metadata": {},
     "output_type": "execute_result"
    }
   ],
   "source": [
    "Rsq=linereg.score(df_train_x,df_train_y)*100\n",
    "Rsq"
   ]
  },
  {
   "cell_type": "code",
   "execution_count": 80,
   "id": "a34af1db",
   "metadata": {},
   "outputs": [],
   "source": [
    "# Adj Rsq"
   ]
  },
  {
   "cell_type": "code",
   "execution_count": 81,
   "id": "1534f3c8",
   "metadata": {},
   "outputs": [
    {
     "data": {
      "text/plain": [
       "580"
      ]
     },
     "execution_count": 81,
     "metadata": {},
     "output_type": "execute_result"
    }
   ],
   "source": [
    "N = df_train_x.shape[0]\n",
    "N"
   ]
  },
  {
   "cell_type": "code",
   "execution_count": 82,
   "id": "e2f57f52",
   "metadata": {},
   "outputs": [
    {
     "data": {
      "text/plain": [
       "5"
      ]
     },
     "execution_count": 82,
     "metadata": {},
     "output_type": "execute_result"
    }
   ],
   "source": [
    "k=df_train_x.shape[1]\n",
    "k"
   ]
  },
  {
   "cell_type": "code",
   "execution_count": 83,
   "id": "6011d4f7",
   "metadata": {},
   "outputs": [
    {
     "data": {
      "text/plain": [
       "86.23771113051278"
      ]
     },
     "execution_count": 83,
     "metadata": {},
     "output_type": "execute_result"
    }
   ],
   "source": [
    "adjRsq= 1-(1-Rsq) *(N-1) / (N-k-1)\n",
    "adjRsq"
   ]
  },
  {
   "cell_type": "code",
   "execution_count": 84,
   "id": "dce2116c",
   "metadata": {},
   "outputs": [
    {
     "data": {
      "text/plain": [
       "array([ 0.16036503,  0.26646915, -0.65980488, -0.41794536, -0.23334452])"
      ]
     },
     "execution_count": 84,
     "metadata": {},
     "output_type": "execute_result"
    }
   ],
   "source": [
    "linereg.coef_        #Beta 1 ,Beta 2, Beta 3 ,beta 4 and beta 5 values"
   ]
  },
  {
   "cell_type": "code",
   "execution_count": 85,
   "id": "b2005fb8",
   "metadata": {},
   "outputs": [
    {
     "data": {
      "text/plain": [
       "Index(['Age', 'Height', 'Smoke', 'Gender', 'Caesarean'], dtype='object')"
      ]
     },
     "execution_count": 85,
     "metadata": {},
     "output_type": "execute_result"
    }
   ],
   "source": [
    "df_train_x.columns"
   ]
  },
  {
   "cell_type": "code",
   "execution_count": 86,
   "id": "f2333630",
   "metadata": {},
   "outputs": [
    {
     "data": {
      "text/plain": [
       "-11.036315658129148"
      ]
     },
     "execution_count": 86,
     "metadata": {},
     "output_type": "execute_result"
    }
   ],
   "source": [
    "linereg.intercept_    #Bo value"
   ]
  },
  {
   "cell_type": "code",
   "execution_count": 87,
   "id": "de009d05",
   "metadata": {},
   "outputs": [],
   "source": [
    "#MSE"
   ]
  },
  {
   "cell_type": "code",
   "execution_count": 88,
   "id": "d04d8cdd",
   "metadata": {},
   "outputs": [],
   "source": [
    "pred_test=linereg.predict(df_test_x)"
   ]
  },
  {
   "cell_type": "code",
   "execution_count": 89,
   "id": "2e616247",
   "metadata": {},
   "outputs": [
    {
     "data": {
      "text/plain": [
       "array([10.80268232,  3.12401901,  6.7830582 , 12.39550964, 11.2284463 ,\n",
       "        7.94808425,  4.92760393,  7.52366119,  9.63852024,  1.55088396,\n",
       "        9.75553092,  4.7050824 ,  6.99120644,  3.28486759,  8.53625055,\n",
       "        6.43113769, 12.21545234,  2.16424654,  7.09827764,  3.49418116,\n",
       "        7.22165631,  3.26469838,  7.03561145,  2.73030945,  9.68340879,\n",
       "       12.26227507,  8.21841515,  7.49798136, 11.78166352, 11.41652845,\n",
       "        8.92553125,  4.91129647, 12.39454255, 11.14716464, 10.07577744,\n",
       "        9.16833171,  8.92802593,  9.60550534,  6.47360852,  4.48397874,\n",
       "       12.98821947,  6.47360852,  7.13188581,  7.9031957 ,  4.51758691,\n",
       "        3.79957085, 10.35761311, 11.03603345,  9.32772965,  9.47130368,\n",
       "        8.46519863,  7.94797453,  3.27452813,  7.38105425,  5.44375122,\n",
       "       10.21694035,  8.32114106,  7.86958754,  4.19134623,  8.24506206,\n",
       "        5.56511875, 11.35482934,  6.92854024,  4.67099069, 11.3819598 ,\n",
       "        6.53820889,  3.39145524, 12.6684565 ,  6.66903235,  8.12958558,\n",
       "        7.57792211,  6.180976  ,  9.41849339, 11.11452356, 11.48806391,\n",
       "        8.7784839 ,  6.5372418 ,  2.13856671,  9.00845022,  6.80081629,\n",
       "       11.6479454 ,  7.64454517,  7.64849048,  8.22344222, 11.64842894,\n",
       "        8.37540197,  2.54329751,  6.13802163,  8.16463777,  6.0571138 ,\n",
       "        6.03143397,  4.96266273,  5.06373976,  8.51655828,  9.17566678,\n",
       "       11.92234289,  9.86762919,  7.3296946 ,  8.05649637,  7.80837197,\n",
       "        4.84863027,  7.57000037,  9.79899499,  8.95563993,  6.26883848,\n",
       "        8.15526541, 10.31511612,  7.20534885,  5.8252199 , 10.02006589,\n",
       "       12.43056183,  9.48712759,  4.95570147,  3.84445279,  6.48491506,\n",
       "        9.45113447, 12.42718363,  8.77751681,  7.68258219,  7.79709159,\n",
       "       11.70123923,  7.30111351,  8.66204033,  8.60729587,  6.43065415,\n",
       "        8.66204033,  3.98319799,  3.08993391, 11.28474451,  3.48770345,\n",
       "        7.11506865,  7.968737  ,  7.06921961,  9.55809595,  8.35764388,\n",
       "        9.60357116,  9.20048924, 10.49036414,  7.55079165, 12.00228363,\n",
       "        7.88734563,  5.97717305,  5.75462537,  7.84439125,  8.13702377])"
      ]
     },
     "execution_count": 89,
     "metadata": {},
     "output_type": "execute_result"
    }
   ],
   "source": [
    "pred_test"
   ]
  },
  {
   "cell_type": "code",
   "execution_count": 90,
   "id": "b699b582",
   "metadata": {},
   "outputs": [],
   "source": [
    "#error = actual - predicted\n",
    "\n",
    "err_test= df_test_y - pred_test       #we do evalution on only test data.this error for test data \n",
    "\n",
    "# we will build the model on train data but evalution on only test data.\n"
   ]
  },
  {
   "cell_type": "code",
   "execution_count": 91,
   "id": "c22a7246",
   "metadata": {},
   "outputs": [
    {
     "data": {
      "text/plain": [
       "1.1480309214949782"
      ]
     },
     "execution_count": 91,
     "metadata": {},
     "output_type": "execute_result"
    }
   ],
   "source": [
    "mse=np.mean(np.square(err_test))\n",
    "mse"
   ]
  },
  {
   "cell_type": "code",
   "execution_count": 92,
   "id": "c216bd31",
   "metadata": {},
   "outputs": [],
   "source": [
    "#RMSE"
   ]
  },
  {
   "cell_type": "code",
   "execution_count": 93,
   "id": "06ff3b3e",
   "metadata": {},
   "outputs": [
    {
     "data": {
      "text/plain": [
       "1.0714620485556072"
      ]
     },
     "execution_count": 93,
     "metadata": {},
     "output_type": "execute_result"
    }
   ],
   "source": [
    "rmse=np.sqrt(mse)\n",
    "rmse"
   ]
  },
  {
   "cell_type": "code",
   "execution_count": 94,
   "id": "d0b290c2",
   "metadata": {},
   "outputs": [],
   "source": [
    "#MAPE"
   ]
  },
  {
   "cell_type": "code",
   "execution_count": 95,
   "id": "b349a988",
   "metadata": {},
   "outputs": [
    {
     "data": {
      "text/plain": [
       "16.76299860723945"
      ]
     },
     "execution_count": 95,
     "metadata": {},
     "output_type": "execute_result"
    }
   ],
   "source": [
    "mape=np.mean(np.abs(err_test*100/df_test_y))\n",
    "mape"
   ]
  },
  {
   "cell_type": "code",
   "execution_count": 97,
   "id": "7829ca09",
   "metadata": {},
   "outputs": [
    {
     "data": {
      "text/plain": [
       "83.23700139276055"
      ]
     },
     "execution_count": 97,
     "metadata": {},
     "output_type": "execute_result"
    }
   ],
   "source": [
    "100-16.76299860723945"
   ]
  },
  {
   "cell_type": "code",
   "execution_count": 50,
   "id": "e7a87cbc",
   "metadata": {},
   "outputs": [],
   "source": [
    "#comclusion = My model is having 83% accuracy."
   ]
  }
 ],
 "metadata": {
  "kernelspec": {
   "display_name": "Python 3 (ipykernel)",
   "language": "python",
   "name": "python3"
  },
  "language_info": {
   "codemirror_mode": {
    "name": "ipython",
    "version": 3
   },
   "file_extension": ".py",
   "mimetype": "text/x-python",
   "name": "python",
   "nbconvert_exporter": "python",
   "pygments_lexer": "ipython3",
   "version": "3.9.13"
  }
 },
 "nbformat": 4,
 "nbformat_minor": 5
}
